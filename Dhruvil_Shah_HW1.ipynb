{
 "cells": [
  {
   "cell_type": "markdown",
   "metadata": {},
   "source": [
    "\n",
    "INFO6105 Instructor: Dr. Handan Liu\n",
    "\n",
    "Homework 1  \n",
    "\n",
    "Name: Dhruvil Shah\n",
    "\n",
    "NUID: 001873473\n",
    "\n",
    "Grading: total 100 points.\n"
   ]
  },
  {
   "cell_type": "raw",
   "metadata": {},
   "source": [
    "\n",
    "1. Create the following Numpy Arrays Using Numpy Routines:  total 18 points\n",
    "\n",
    "Refer to: https://numpy.org/doc/stable/reference/routines.array-creation.html\n",
    "          https://numpy.org/doc/stable/reference/random/index.html\n"
   ]
  },
  {
   "cell_type": "raw",
   "metadata": {},
   "source": [
    "1) Create an array of [1, 2, 3].    - 1 point"
   ]
  },
  {
   "cell_type": "code",
   "execution_count": 2,
   "metadata": {},
   "outputs": [
    {
     "data": {
      "text/plain": [
       "array([1, 2, 3])"
      ]
     },
     "execution_count": 2,
     "metadata": {},
     "output_type": "execute_result"
    }
   ],
   "source": [
    "import numpy as np\n",
    "np.random.seed(0)\n",
    "a = np.array([1,2,3])\n",
    "a"
   ]
  },
  {
   "cell_type": "raw",
   "metadata": {},
   "source": [
    "2) Let x = [1, 2]. Convert it into an array.  - 1 point"
   ]
  },
  {
   "cell_type": "code",
   "execution_count": 10,
   "metadata": {},
   "outputs": [
    {
     "data": {
      "text/plain": [
       "array([1, 2])"
      ]
     },
     "execution_count": 10,
     "metadata": {},
     "output_type": "execute_result"
    }
   ],
   "source": [
    "x=[1,2]\n",
    "b = np.array(x)\n",
    "b"
   ]
  },
  {
   "cell_type": "raw",
   "metadata": {},
   "source": [
    "3) Create a new array of 3 x 2 float numbers, filled with ones.  - 1 point"
   ]
  },
  {
   "cell_type": "code",
   "execution_count": 13,
   "metadata": {},
   "outputs": [
    {
     "data": {
      "text/plain": [
       "array([[1., 1.],\n",
       "       [1., 1.],\n",
       "       [1., 1.]])"
      ]
     },
     "execution_count": 13,
     "metadata": {},
     "output_type": "execute_result"
    }
   ],
   "source": [
    "array3 = np.ones((3,2),dtype=float)\n",
    "array3"
   ]
  },
  {
   "cell_type": "raw",
   "metadata": {},
   "source": [
    "4) Create a 3 x 3 array with ones on the diagonal and zeros elsewhere.  - 1 point"
   ]
  },
  {
   "cell_type": "code",
   "execution_count": 14,
   "metadata": {},
   "outputs": [
    {
     "data": {
      "text/plain": [
       "array([[1, 0, 0],\n",
       "       [0, 1, 0],\n",
       "       [0, 0, 1]])"
      ]
     },
     "execution_count": 14,
     "metadata": {},
     "output_type": "execute_result"
    }
   ],
   "source": [
    "array4 = np.eye(3, dtype=int)\n",
    "array4"
   ]
  },
  {
   "cell_type": "raw",
   "metadata": {},
   "source": [
    "5) Create a new array of 2 x 5 uints, filled with 6.   - 1 point"
   ]
  },
  {
   "cell_type": "code",
   "execution_count": 15,
   "metadata": {},
   "outputs": [
    {
     "data": {
      "text/plain": [
       "array([[6, 6, 6, 6, 6],\n",
       "       [6, 6, 6, 6, 6]], dtype=uint32)"
      ]
     },
     "execution_count": 15,
     "metadata": {},
     "output_type": "execute_result"
    }
   ],
   "source": [
    "array5 = np.full((2, 5), 6, dtype=np.uint)\n",
    "array5"
   ]
  },
  {
   "cell_type": "raw",
   "metadata": {},
   "source": [
    "6) Create an array of 2, 4, 6, 8, ..., 98, 100.   - 1 point"
   ]
  },
  {
   "cell_type": "code",
   "execution_count": 29,
   "metadata": {},
   "outputs": [
    {
     "data": {
      "text/plain": [
       "array([  2,   4,   6,   8,  10,  12,  14,  16,  18,  20,  22,  24,  26,\n",
       "        28,  30,  32,  34,  36,  38,  40,  42,  44,  46,  48,  50,  52,\n",
       "        54,  56,  58,  60,  62,  64,  66,  68,  70,  72,  74,  76,  78,\n",
       "        80,  82,  84,  86,  88,  90,  92,  94,  96,  98, 100])"
      ]
     },
     "execution_count": 29,
     "metadata": {},
     "output_type": "execute_result"
    }
   ],
   "source": [
    "array6 = np.arange(start=2, stop=102, step=2)\n",
    "array6"
   ]
  },
  {
   "cell_type": "raw",
   "metadata": {},
   "source": [
    "7) create an array of 10 zeros; another array of 10 fives. - 2 points"
   ]
  },
  {
   "cell_type": "code",
   "execution_count": 27,
   "metadata": {},
   "outputs": [
    {
     "name": "stdout",
     "output_type": "stream",
     "text": [
      "[0. 0. 0. 0. 0. 0. 0. 0. 0. 0.]\n",
      "[5. 5. 5. 5. 5. 5. 5. 5. 5. 5.]\n"
     ]
    }
   ],
   "source": [
    "array7=np.zeros(10)\n",
    "print(array7)\n",
    "array8=np.ones(10)*5\n",
    "print(array8)"
   ]
  },
  {
   "cell_type": "raw",
   "metadata": {},
   "source": [
    "8) create a 3x3x3 array filled with arbitrary values. - 1 points"
   ]
  },
  {
   "cell_type": "code",
   "execution_count": 28,
   "metadata": {},
   "outputs": [
    {
     "name": "stdout",
     "output_type": "stream",
     "text": [
      "[[[0.77132064 0.02075195 0.63364823]\n",
      "  [0.74880388 0.49850701 0.22479665]\n",
      "  [0.19806286 0.76053071 0.16911084]]\n",
      "\n",
      " [[0.08833981 0.68535982 0.95339335]\n",
      "  [0.00394827 0.51219226 0.81262096]\n",
      "  [0.61252607 0.72175532 0.29187607]]\n",
      "\n",
      " [[0.91777412 0.71457578 0.54254437]\n",
      "  [0.14217005 0.37334076 0.67413362]\n",
      "  [0.44183317 0.43401399 0.61776698]]]\n"
     ]
    }
   ],
   "source": [
    "np.random.seed(10)\n",
    "x = np.random.random((3,3,3))\n",
    "print(x)"
   ]
  },
  {
   "cell_type": "raw",
   "metadata": {},
   "source": [
    "9) create a 3x4 matrix filled with values from 10 to 21 (inclusive). - 4 ponits"
   ]
  },
  {
   "cell_type": "code",
   "execution_count": 29,
   "metadata": {},
   "outputs": [
    {
     "name": "stdout",
     "output_type": "stream",
     "text": [
      "[[10 11 12 13]\n",
      " [14 15 16 17]\n",
      " [18 19 20 21]]\n"
     ]
    }
   ],
   "source": [
    "m= np.arange(10,22).reshape((3, 4))\n",
    "print(m)"
   ]
  },
  {
   "cell_type": "raw",
   "metadata": {},
   "source": [
    "10) Create an 4x4 matrix in which 0 and 1 are staggered, with zeros on the main diagonal. Please use the numpy \"slicing\" method to realize.\n",
    "     - 5 points\n",
    "[[0. 1. 0. 1.]\n",
    " [1. 0. 1. 0.]\n",
    " [0. 1. 0. 1.]\n",
    " [1. 0. 1. 0.]]     "
   ]
  },
  {
   "cell_type": "code",
   "execution_count": 32,
   "metadata": {
    "scrolled": true
   },
   "outputs": [
    {
     "name": "stdout",
     "output_type": "stream",
     "text": [
      "[[0. 1. 0. 1.]\n",
      " [1. 0. 1. 0.]\n",
      " [0. 1. 0. 1.]\n",
      " [1. 0. 1. 0.]]\n"
     ]
    }
   ],
   "source": [
    "ar9 = np.zeros((4, 4))\n",
    "ar9[::2, 1::2] = 1\n",
    "ar9[1::2, ::2] = 1\n",
    "print(ar9)"
   ]
  },
  {
   "cell_type": "raw",
   "metadata": {},
   "source": [
    "\n",
    "2. Numpy Random Number  - total 6 points\n",
    "1) Assign number 10 to the seed of the random generator so that you can get the same value next time.   - 2 point\n",
    "2) Create an array of shape (3, 2) and populate it with random samples from a uniform distribution over [0, 1).  - 2 point\n",
    "3) Create an array of shape (3, 2) and populate it with random integers ranging from 0 to 3 (inclusive) from a discrete uniform distribution. \n",
    "    - 2 points\n"
   ]
  },
  {
   "cell_type": "code",
   "execution_count": 6,
   "metadata": {},
   "outputs": [
    {
     "name": "stdout",
     "output_type": "stream",
     "text": [
      "first Number  34\n",
      "Second Number  34\n",
      "Third Number  34\n"
     ]
    }
   ],
   "source": [
    "#1\n",
    "np.random.seed(10)\n",
    "\n",
    "\n",
    "print (\"first Number \", np.random.randint(25,50))\n",
    "np.random.seed(10)\n",
    "print (\"Second Number \", np.random.randint(25,50))\n",
    "np.random.seed(10)\n",
    "print (\"Third Number \", np.random.randint(25,50))"
   ]
  },
  {
   "cell_type": "code",
   "execution_count": 111,
   "metadata": {},
   "outputs": [
    {
     "data": {
      "text/plain": [
       "array([[0.77132064, 0.02075195],\n",
       "       [0.63364823, 0.74880388],\n",
       "       [0.49850701, 0.22479665]])"
      ]
     },
     "execution_count": 111,
     "metadata": {},
     "output_type": "execute_result"
    }
   ],
   "source": [
    "#2\n",
    "np.random.seed(10)  \n",
    "x2 = np.random.random_sample(size=(3, 2))  # Two-dimensional array\n",
    "x2"
   ]
  },
  {
   "cell_type": "code",
   "execution_count": 132,
   "metadata": {},
   "outputs": [
    {
     "data": {
      "text/plain": [
       "array([[1, 1],\n",
       "       [0, 3],\n",
       "       [0, 1]])"
      ]
     },
     "execution_count": 132,
     "metadata": {},
     "output_type": "execute_result"
    }
   ],
   "source": [
    "#3\n",
    "np.random.seed(10)  \n",
    "x2 = np.random.randint(0,4,size=(3, 2))\n",
    "x2"
   ]
  },
  {
   "cell_type": "raw",
   "metadata": {},
   "source": [
    "\n",
    "3. Operate on Numpy Arrays: total 13 points\n"
   ]
  },
  {
   "cell_type": "raw",
   "metadata": {},
   "source": [
    "1) Let x be an array [1, 2, 3, ..., 9]. Split x into 3 arrays, each of which has 4, 2, and 3 elements in the original order. - 2 points"
   ]
  },
  {
   "cell_type": "code",
   "execution_count": 153,
   "metadata": {},
   "outputs": [
    {
     "data": {
      "text/plain": [
       "[array([1, 2, 3, 4]), array([5, 6]), array([7, 8, 9]), array([], dtype=int32)]"
      ]
     },
     "execution_count": 153,
     "metadata": {},
     "output_type": "execute_result"
    }
   ],
   "source": [
    "x = [1,2,3,4,5,6,7,8,9]\n",
    "np.split(x,[4,6,9])"
   ]
  },
  {
   "cell_type": "raw",
   "metadata": {},
   "source": [
    "2) Given an array    - 4 points\n",
    "[[ 0., 1., 2., 3.],\n",
    "[ 4., 5., 6., 7.],\n",
    "[ 8., 9., 10., 11.],\n",
    "[ 12., 13., 14., 15.]].\n",
    "Split it into two arrays along the second axis.\n"
   ]
  },
  {
   "cell_type": "code",
   "execution_count": 163,
   "metadata": {},
   "outputs": [
    {
     "name": "stdout",
     "output_type": "stream",
     "text": [
      "Original array: [[ 0  1  2  3]\n",
      " [ 4  5  6  7]\n",
      " [ 8  9 10 11]\n",
      " [12 13 14 15]]\n",
      "After splitting along second axis:\n",
      "[array([[ 0,  1],\n",
      "       [ 4,  5],\n",
      "       [ 8,  9],\n",
      "       [12, 13]]), array([[ 2,  3],\n",
      "       [ 6,  7],\n",
      "       [10, 11],\n",
      "       [14, 15]]), array([], shape=(4, 0), dtype=int32)]\n"
     ]
    }
   ],
   "source": [
    "arr = np.arange(16).reshape((4, 4))\n",
    "print(\"Original array:\",arr)\n",
    "print(\"After splitting along second axis:\")\n",
    "print(np.hsplit(arr, [2, 6]))"
   ]
  },
  {
   "cell_type": "raw",
   "metadata": {},
   "source": [
    "3) Given an array: [[5,10,15],[20,25,30],[35,40,45]]   - 3 points\n",
    "(1) Slicing to get the sub-array [[10,15],[25,30]]\n",
    "(2) Getting individual element value \"20\""
   ]
  },
  {
   "cell_type": "code",
   "execution_count": 228,
   "metadata": {},
   "outputs": [
    {
     "name": "stdout",
     "output_type": "stream",
     "text": [
      "[[10 15]\n",
      " [25 30]]\n",
      "20\n",
      "20\n"
     ]
    }
   ],
   "source": [
    "givenArr = np.array([[5,10,15],[20,25,30],[35,40,45]])\n",
    "\n",
    "#1 Slicing to get the sub-array [[10,15],[25,30]]\n",
    "\n",
    "print(givenArr[0:2,1:3])\n",
    "\n",
    "\n",
    "#2 Getting individual element value \"20\"\n",
    "#Method1\n",
    "print(givenArr.item(3))\n",
    "\n",
    "#Method2\n",
    "\n",
    "print(np.take(givenArr,3))\n"
   ]
  },
  {
   "cell_type": "raw",
   "metadata": {},
   "source": [
    "4)  - 4 points\n",
    "Let x be an array\n",
    "[[ 1 2 3]\n",
    " [ 4 5 6]].\n",
    "\n",
    "and y be an array\n",
    "[[ 7 8 9]\n",
    " [10 11 12]].\n",
    "\n",
    "Concatenate x and y so that a new array looks like\n",
    "[[1, 2, 3, 7, 8, 9],\n",
    " [4, 5, 6, 10, 11, 12]]."
   ]
  },
  {
   "cell_type": "code",
   "execution_count": 242,
   "metadata": {},
   "outputs": [
    {
     "name": "stdout",
     "output_type": "stream",
     "text": [
      "[[ 1  2  3  7  8  9]\n",
      " [ 4  5  6 10 11 12]]\n"
     ]
    }
   ],
   "source": [
    "x = np.array([[ 1, 2, 3],\n",
    " [ 4, 5, 6]])\n",
    "\n",
    "y= np.array([[7, 8, 9],[10, 11, 12]])\n",
    "\n",
    "result= np.hstack((x,y))\n",
    "print(result)"
   ]
  },
  {
   "cell_type": "raw",
   "metadata": {},
   "source": [
    "\n",
    "4. Array Slicing: total 10 points, 2 points each\n",
    "Given an array: \n",
    "array([ 3,  6,  9,  25, 10,  8])\n"
   ]
  },
  {
   "cell_type": "raw",
   "metadata": {},
   "source": [
    "1) To get all elements except the first:"
   ]
  },
  {
   "cell_type": "code",
   "execution_count": 244,
   "metadata": {},
   "outputs": [
    {
     "name": "stdout",
     "output_type": "stream",
     "text": [
      "[ 6  9 25 10  8]\n"
     ]
    }
   ],
   "source": [
    "arr4 = np.array([ 3,  6,  9,  25, 10,  8])\n",
    "print(arr4[1:])\n"
   ]
  },
  {
   "cell_type": "raw",
   "metadata": {},
   "source": [
    "2) To get all elements except the last:"
   ]
  },
  {
   "cell_type": "code",
   "execution_count": 245,
   "metadata": {},
   "outputs": [
    {
     "name": "stdout",
     "output_type": "stream",
     "text": [
      "[ 3  6  9 25 10]\n"
     ]
    }
   ],
   "source": [
    "arr4 = np.array([ 3,  6,  9,  25, 10,  8])\n",
    "print(arr4[:-1])"
   ]
  },
  {
   "cell_type": "raw",
   "metadata": {},
   "source": [
    "3) To get every other element of the array (operation from the first element):"
   ]
  },
  {
   "cell_type": "code",
   "execution_count": 246,
   "metadata": {},
   "outputs": [
    {
     "name": "stdout",
     "output_type": "stream",
     "text": [
      "[ 3  9 10]\n"
     ]
    }
   ],
   "source": [
    "arr4 = np.array([ 3,  6,  9,  25, 10,  8])\n",
    "print(arr4[::2])"
   ]
  },
  {
   "cell_type": "raw",
   "metadata": {},
   "source": [
    "4) To get every element of the array (operation from the second element):"
   ]
  },
  {
   "cell_type": "code",
   "execution_count": 247,
   "metadata": {},
   "outputs": [
    {
     "name": "stdout",
     "output_type": "stream",
     "text": [
      "[ 6 25  8]\n"
     ]
    }
   ],
   "source": [
    "arr4 = np.array([ 3,  6,  9,  25, 10,  8])\n",
    "print(arr4[1::2])"
   ]
  },
  {
   "cell_type": "raw",
   "metadata": {},
   "source": [
    "5) To reverse the array:\n"
   ]
  },
  {
   "cell_type": "code",
   "execution_count": 248,
   "metadata": {},
   "outputs": [
    {
     "name": "stdout",
     "output_type": "stream",
     "text": [
      "[ 8 10 25  9  6  3]\n"
     ]
    }
   ],
   "source": [
    "arr4 = np.array([ 3,  6,  9,  25, 10,  8])\n",
    "print(arr4[::-1])"
   ]
  },
  {
   "cell_type": "raw",
   "metadata": {},
   "source": [
    "\n",
    "5. Multidimensional Arrays: total 8 points, 2 points each\n"
   ]
  },
  {
   "cell_type": "raw",
   "metadata": {},
   "source": [
    "1) create an array with the components as 0-31 and the shape is (8,4)"
   ]
  },
  {
   "cell_type": "code",
   "execution_count": 254,
   "metadata": {},
   "outputs": [
    {
     "name": "stdout",
     "output_type": "stream",
     "text": [
      "[[20 18 16 14]\n",
      " [19 15 19 17]\n",
      " [18 21 25 14]\n",
      " [16 10 17  0]\n",
      " [17  9 16  9]\n",
      " [26 12 18 30]\n",
      " [17 17 28 16]\n",
      " [ 0  5  9  0]]\n"
     ]
    }
   ],
   "source": [
    "a = np.random.randint(0, 31, (8,4))\n",
    "print(a)"
   ]
  },
  {
   "cell_type": "raw",
   "metadata": {},
   "source": [
    "2) set the 3rd element in the 1st row to 0"
   ]
  },
  {
   "cell_type": "code",
   "execution_count": 258,
   "metadata": {},
   "outputs": [
    {
     "name": "stdout",
     "output_type": "stream",
     "text": [
      "[[20 18  0 14]\n",
      " [19 15 19 17]\n",
      " [18 21 25 14]\n",
      " [16 10 17  0]\n",
      " [17  9 16  9]\n",
      " [26 12 18 30]\n",
      " [17 17 28 16]\n",
      " [ 0  5  9  0]]\n"
     ]
    }
   ],
   "source": [
    "a[0,2]=0\n",
    "print(a)"
   ]
  },
  {
   "cell_type": "raw",
   "metadata": {},
   "source": [
    "3)  the second column"
   ]
  },
  {
   "cell_type": "code",
   "execution_count": 263,
   "metadata": {},
   "outputs": [
    {
     "name": "stdout",
     "output_type": "stream",
     "text": [
      "[[18]\n",
      " [15]\n",
      " [21]\n",
      " [10]\n",
      " [ 9]\n",
      " [12]\n",
      " [17]\n",
      " [ 5]]\n"
     ]
    }
   ],
   "source": [
    "print(a[:,1:2])"
   ]
  },
  {
   "cell_type": "raw",
   "metadata": {},
   "source": [
    "4) select any 3x3 region from the array"
   ]
  },
  {
   "cell_type": "code",
   "execution_count": 264,
   "metadata": {},
   "outputs": [
    {
     "name": "stdout",
     "output_type": "stream",
     "text": [
      "[[20 18  0]\n",
      " [19 15 19]\n",
      " [18 21 25]]\n"
     ]
    }
   ],
   "source": [
    "print(a[:3,:3])"
   ]
  },
  {
   "cell_type": "raw",
   "metadata": {},
   "source": [
    "\n",
    "6. Create a random array with 1000 elements and compute the average, variance, standard deviation of the array elements.   - 7 points\n",
    "And print the formatted outputs which keep 5 digits after the decimal point.\n",
    "The output should be the following formatting, for example\n",
    "Average of the array elements is: 0.xxxxx\n",
    "Standard deviation of the array elements: 0.xxxxx\n",
    "Variance of the array elements: 0.xxxxx\n"
   ]
  },
  {
   "cell_type": "code",
   "execution_count": 266,
   "metadata": {},
   "outputs": [
    {
     "name": "stdout",
     "output_type": "stream",
     "text": [
      "Average of the array elements:\n",
      "-0.012342548866172276\n",
      "Standard deviation of the array elements:\n",
      "0.9804013665426712\n",
      "Variance of the array elements:\n",
      "0.9611868395187371\n"
     ]
    }
   ],
   "source": [
    "arr = np.random.randn(1000)\n",
    "print(\"Average of the array elements:\")\n",
    "mean = arr.mean()\n",
    "print(mean)\n",
    "print(\"Standard deviation of the array elements:\")\n",
    "stand = arr.std()\n",
    "print(stand)\n",
    "print(\"Variance of the array elements:\")\n",
    "var = arr.var()\n",
    "print(var)"
   ]
  },
  {
   "cell_type": "raw",
   "metadata": {},
   "source": [
    "7. Broadcasting: 10 points\n",
    "1) Please add the following two arrays according to the 3 rules. You should list the steps according to Rule 1, Rule 2 or Rule 3. See details as the teacher's slides.\n",
    "2) You can reshape the array by np.reshape or 'newaxis'. (each for 5 points)"
   ]
  },
  {
   "cell_type": "raw",
   "metadata": {},
   "source": [
    "# 7-1) \n",
    "a = np.array([0.0, 10.0, 20.0, 30.0])\n",
    "b = np.array([1.0, 2.0, 3.0])\n",
    "\n"
   ]
  },
  {
   "cell_type": "code",
   "execution_count": 11,
   "metadata": {},
   "outputs": [
    {
     "name": "stdout",
     "output_type": "stream",
     "text": [
      "shape of a (4,)\n",
      "shape of b (3,)\n"
     ]
    },
    {
     "ename": "ValueError",
     "evalue": "operands could not be broadcast together with shapes (4,) (3,) ",
     "output_type": "error",
     "traceback": [
      "\u001b[1;31m---------------------------------------------------------------------------\u001b[0m",
      "\u001b[1;31mValueError\u001b[0m                                Traceback (most recent call last)",
      "\u001b[1;32m<ipython-input-11-8b0e99c369c8>\u001b[0m in \u001b[0;36m<module>\u001b[1;34m\u001b[0m\n\u001b[0;32m      5\u001b[0m \u001b[0mprint\u001b[0m\u001b[1;33m(\u001b[0m\u001b[1;34m'shape of a'\u001b[0m\u001b[1;33m,\u001b[0m\u001b[0ma\u001b[0m\u001b[1;33m.\u001b[0m\u001b[0mshape\u001b[0m\u001b[1;33m)\u001b[0m\u001b[1;33m\u001b[0m\u001b[1;33m\u001b[0m\u001b[0m\n\u001b[0;32m      6\u001b[0m \u001b[0mprint\u001b[0m\u001b[1;33m(\u001b[0m\u001b[1;34m'shape of b'\u001b[0m\u001b[1;33m,\u001b[0m\u001b[0mb\u001b[0m\u001b[1;33m.\u001b[0m\u001b[0mshape\u001b[0m\u001b[1;33m)\u001b[0m\u001b[1;33m\u001b[0m\u001b[1;33m\u001b[0m\u001b[0m\n\u001b[1;32m----> 7\u001b[1;33m \u001b[0mprint\u001b[0m\u001b[1;33m(\u001b[0m\u001b[1;33m(\u001b[0m\u001b[0ma\u001b[0m\u001b[1;33m+\u001b[0m\u001b[0mb\u001b[0m\u001b[1;33m)\u001b[0m\u001b[1;33m.\u001b[0m\u001b[0mshape\u001b[0m\u001b[1;33m)\u001b[0m\u001b[1;33m\u001b[0m\u001b[1;33m\u001b[0m\u001b[0m\n\u001b[0m\u001b[0;32m      8\u001b[0m \u001b[1;31m#According to Rule 3, the dimensions of both the arrays disagrees an error is generated\u001b[0m\u001b[1;33m\u001b[0m\u001b[1;33m\u001b[0m\u001b[1;33m\u001b[0m\u001b[0m\n\u001b[0;32m      9\u001b[0m \u001b[1;33m\u001b[0m\u001b[0m\n",
      "\u001b[1;31mValueError\u001b[0m: operands could not be broadcast together with shapes (4,) (3,) "
     ]
    }
   ],
   "source": [
    "from numpy import array, newaxis\n",
    "a = np.array([0.0, 10.0, 20.0, 30.0])\n",
    "b = np.array([1.0, 2.0, 3.0])\n",
    "\n",
    "print('shape of a',a.shape)\n",
    "print('shape of b',b.shape)\n",
    "print((a+b).shape)\n",
    "#According to Rule 3, the dimensions of both the arrays disagrees an error is generated\n",
    "\n"
   ]
  },
  {
   "cell_type": "code",
   "execution_count": 13,
   "metadata": {},
   "outputs": [
    {
     "name": "stdout",
     "output_type": "stream",
     "text": [
      "[[ 1.  2.  3.]\n",
      " [11. 12. 13.]\n",
      " [21. 22. 23.]\n",
      " [31. 32. 33.]]\n"
     ]
    }
   ],
   "source": [
    "#Using newaxis\n",
    "print(a[:,newaxis] + b)\n",
    "\n"
   ]
  },
  {
   "cell_type": "raw",
   "metadata": {},
   "source": [
    "# 7-2) \n",
    "x = np.arange(4)\n",
    "y = np.ones(5)\n"
   ]
  },
  {
   "cell_type": "code",
   "execution_count": 8,
   "metadata": {},
   "outputs": [
    {
     "data": {
      "text/plain": [
       "array([[1., 1., 1., 1., 1.],\n",
       "       [2., 2., 2., 2., 2.],\n",
       "       [3., 3., 3., 3., 3.],\n",
       "       [4., 4., 4., 4., 4.]])"
      ]
     },
     "execution_count": 8,
     "metadata": {},
     "output_type": "execute_result"
    }
   ],
   "source": [
    "#Using Rule1 of reshape\n",
    "x = np.arange(4).reshape(4,1)\n",
    "y = np.ones(5)\n",
    "\n",
    "x+y"
   ]
  },
  {
   "cell_type": "code",
   "execution_count": 10,
   "metadata": {},
   "outputs": [
    {
     "name": "stdout",
     "output_type": "stream",
     "text": [
      "X: [0 1 2 3]\n",
      "Y: [1. 1. 1. 1. 1.]\n",
      "[[1. 1. 1. 1. 1.]\n",
      " [2. 2. 2. 2. 2.]\n",
      " [3. 3. 3. 3. 3.]\n",
      " [4. 4. 4. 4. 4.]]\n"
     ]
    }
   ],
   "source": [
    "#Using newAxis\n",
    "from numpy import array, newaxis\n",
    "x = np.arange(4)\n",
    "print(\"X:\",x)\n",
    "y = np.ones(5)\n",
    "print(\"Y:\",y)\n",
    "#print(x+y)\n",
    "print(x[:,newaxis] + y)"
   ]
  },
  {
   "cell_type": "raw",
   "metadata": {},
   "source": [
    "\n",
    "8. Write a 6x6 times table matrix:  total 12 points \n",
    "    - by using numpy broadcasting (6 points) \n",
    "    - by using Python nested for-loop (6 points).\n",
    "    "
   ]
  },
  {
   "cell_type": "code",
   "execution_count": 290,
   "metadata": {},
   "outputs": [
    {
     "name": "stdout",
     "output_type": "stream",
     "text": [
      "[1 2 3 4 5 6]\n",
      "[1 2 3 4 5 6]\n",
      "[[ 1  2  3  4  5  6]\n",
      " [ 2  4  6  8 10 12]\n",
      " [ 3  6  9 12 15 18]\n",
      " [ 4  8 12 16 20 24]\n",
      " [ 5 10 15 20 25 30]\n",
      " [ 6 12 18 24 30 36]]\n"
     ]
    }
   ],
   "source": [
    "#Using Broadcasting\n",
    "x = np.arange(1,7)\n",
    "y=np.arange(1,7)\n",
    "print(x)\n",
    "print(y)\n",
    "print(x[:,newaxis] * y)"
   ]
  },
  {
   "cell_type": "code",
   "execution_count": 54,
   "metadata": {},
   "outputs": [
    {
     "data": {
      "text/plain": [
       "array([[ 1.,  2.,  3.,  4.,  5.,  6.],\n",
       "       [ 2.,  4.,  6.,  8., 10., 12.],\n",
       "       [ 3.,  6.,  9., 12., 15., 18.],\n",
       "       [ 4.,  8., 12., 16., 20., 24.],\n",
       "       [ 5., 10., 15., 20., 25., 30.],\n",
       "       [ 6., 12., 18., 24., 30., 36.]])"
      ]
     },
     "execution_count": 54,
     "metadata": {},
     "output_type": "execute_result"
    }
   ],
   "source": [
    "#Using for loops\n",
    "#rows, cols = (6, 6) \n",
    "#p = [[0 for i in range(cols)] for j in range(rows)] \n",
    "\n",
    "p = np.zeros((6,6))\n",
    "\n",
    "for i in range(0,6):\n",
    "    for j in range(0,6):\n",
    "        p[i][j]=(i+1)*(j+1)\n",
    "        \n",
    "p"
   ]
  },
  {
   "cell_type": "raw",
   "metadata": {},
   "source": [
    "\n",
    "9. Broadcasting in Practice: Centering an array:  16 points\n",
    "Imagine you have an array of 10 observations, each of which consists of 3 values(floating-point numbers). Store this in an array with the shape(10, 3).   - 4 points\n",
    "Compute the mean of each feature using the mean aggregate across the first dimension;  - 4 points\n",
    "Center the X array by subtracting the mean;  - 4 points\n",
    "Double-check the correctness of the centralization using the mean aggregate again (check that the centered array has near zero mean). - 4 points\n"
   ]
  },
  {
   "cell_type": "code",
   "execution_count": 41,
   "metadata": {},
   "outputs": [
    {
     "name": "stdout",
     "output_type": "stream",
     "text": [
      "Array of (10,3): [[0.81872157 0.16034803 0.66069534]\n",
      " [0.17663505 0.48419866 0.71355456]\n",
      " [0.48120129 0.14075845 0.73078739]\n",
      " [0.8122959  0.72382052 0.6717323 ]\n",
      " [0.26411314 0.27607332 0.84169919]\n",
      " [0.51575165 0.82808948 0.62973071]\n",
      " [0.54188732 0.82561156 0.6778163 ]\n",
      " [0.69427663 0.2191785  0.9003574 ]\n",
      " [0.13161621 0.12625124 0.15319693]\n",
      " [0.34380989 0.00846691 0.13208193]]\n",
      "Compute the mean:\n",
      "[0.47803086 0.37927967 0.6111652 ]\n",
      "Center the Array by subtracting the mean:\n",
      "[[ 0.34069071 -0.21893164  0.04953014]\n",
      " [-0.30139582  0.10491899  0.10238935]\n",
      " [ 0.00317042 -0.23852122  0.11962218]\n",
      " [ 0.33426503  0.34454085  0.06056709]\n",
      " [-0.21391772 -0.10320634  0.23053399]\n",
      " [ 0.03772079  0.44880981  0.01856551]\n",
      " [ 0.06385646  0.44633189  0.0666511 ]\n",
      " [ 0.21624576 -0.16010116  0.28919219]\n",
      " [-0.34641466 -0.25302843 -0.45796827]\n",
      " [-0.13422097 -0.37081276 -0.47908328]]\n",
      "Double-check the correctness : [ 3.33066907e-17  2.22044605e-17 -5.55111512e-17]\n"
     ]
    }
   ],
   "source": [
    "#1 Creating array of 10 obeservations.\n",
    "x = np.random.random((10, 3))\n",
    "print(\"Array of (10,3):\", x)\n",
    "\n",
    "#2 computing mean\n",
    "x_mean = x.mean(0)\n",
    "print(\"Compute the mean:\")\n",
    "print(x_mean)\n",
    "\n",
    "#3 Center of arr by subtracting mean\n",
    "x_centered = x - x_mean\n",
    "print(\"Center the Array by subtracting the mean:\")\n",
    "print(x_centered)\n",
    "\n",
    "#4 Double check \n",
    "print(\"Double-check the correctness :\", x_centered.mean(0))\n"
   ]
  }
 ],
 "metadata": {
  "kernelspec": {
   "display_name": "Python 3",
   "language": "python",
   "name": "python3"
  },
  "language_info": {
   "codemirror_mode": {
    "name": "ipython",
    "version": 3
   },
   "file_extension": ".py",
   "mimetype": "text/x-python",
   "name": "python",
   "nbconvert_exporter": "python",
   "pygments_lexer": "ipython3",
   "version": "3.8.3"
  }
 },
 "nbformat": 4,
 "nbformat_minor": 4
}
