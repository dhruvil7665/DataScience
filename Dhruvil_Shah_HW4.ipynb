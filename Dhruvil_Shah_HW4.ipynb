{
 "cells": [
  {
   "cell_type": "markdown",
   "metadata": {},
   "source": [
    "INFO6105 Instructor: Dr. Handan Liu\n",
    "\n",
    "Homework 4\n",
    "\n",
    "Grading: total 100 points\n",
    "\n",
    "Dhruvil Shah"
   ]
  },
  {
   "cell_type": "raw",
   "metadata": {},
   "source": [
    "Dataset: using the one of most popular classification dataset which is Iris dataset. \n",
    "Iris dataset is having 4 features of iris flower and one target class. The flower species type is the target class which has 3 types.\n",
    "\n",
    "The idea of implementing SVM classifier in Python is to use the iris features to train an svm classifier and use the trained svm model to predict the Iris species type. "
   ]
  },
  {
   "cell_type": "raw",
   "metadata": {},
   "source": []
  },
  {
   "cell_type": "raw",
   "metadata": {},
   "source": [
    "1. (12 points) Importing Iris dataset from Scikit-Learn and understand Iris dataset"
   ]
  },
  {
   "cell_type": "code",
   "execution_count": 1,
   "metadata": {},
   "outputs": [],
   "source": [
    "# Required Packages\n",
    "import pandas as pd\n",
    "import numpy as np\n",
    "import matplotlib.pyplot as plt\n",
    "from sklearn import datasets\n",
    "from sklearn import svm\n",
    "from sklearn.model_selection import train_test_split\n",
    "%matplotlib inline\n"
   ]
  },
  {
   "cell_type": "code",
   "execution_count": 2,
   "metadata": {},
   "outputs": [],
   "source": [
    "# import iris data to model Svm classifier (3 points)\n",
    "\n",
    "iris = datasets.load_iris()"
   ]
  },
  {
   "cell_type": "code",
   "execution_count": 3,
   "metadata": {},
   "outputs": [
    {
     "name": "stdout",
     "output_type": "stream",
     "text": [
      "Iris data set Description .. _iris_dataset:\n",
      "\n",
      "Iris plants dataset\n",
      "--------------------\n",
      "\n",
      "**Data Set Characteristics:**\n",
      "\n",
      "    :Number of Instances: 150 (50 in each of three classes)\n",
      "    :Number of Attributes: 4 numeric, predictive attributes and the class\n",
      "    :Attribute Information:\n",
      "        - sepal length in cm\n",
      "        - sepal width in cm\n",
      "        - petal length in cm\n",
      "        - petal width in cm\n",
      "        - class:\n",
      "                - Iris-Setosa\n",
      "                - Iris-Versicolour\n",
      "                - Iris-Virginica\n",
      "                \n",
      "    :Summary Statistics:\n",
      "\n",
      "    ============== ==== ==== ======= ===== ====================\n",
      "                    Min  Max   Mean    SD   Class Correlation\n",
      "    ============== ==== ==== ======= ===== ====================\n",
      "    sepal length:   4.3  7.9   5.84   0.83    0.7826\n",
      "    sepal width:    2.0  4.4   3.05   0.43   -0.4194\n",
      "    petal length:   1.0  6.9   3.76   1.76    0.9490  (high!)\n",
      "    petal width:    0.1  2.5   1.20   0.76    0.9565  (high!)\n",
      "    ============== ==== ==== ======= ===== ====================\n",
      "\n",
      "    :Missing Attribute Values: None\n",
      "    :Class Distribution: 33.3% for each of 3 classes.\n",
      "    :Creator: R.A. Fisher\n",
      "    :Donor: Michael Marshall (MARSHALL%PLU@io.arc.nasa.gov)\n",
      "    :Date: July, 1988\n",
      "\n",
      "The famous Iris database, first used by Sir R.A. Fisher. The dataset is taken\n",
      "from Fisher's paper. Note that it's the same as in R, but not as in the UCI\n",
      "Machine Learning Repository, which has two wrong data points.\n",
      "\n",
      "This is perhaps the best known database to be found in the\n",
      "pattern recognition literature.  Fisher's paper is a classic in the field and\n",
      "is referenced frequently to this day.  (See Duda & Hart, for example.)  The\n",
      "data set contains 3 classes of 50 instances each, where each class refers to a\n",
      "type of iris plant.  One class is linearly separable from the other 2; the\n",
      "latter are NOT linearly separable from each other.\n",
      "\n",
      ".. topic:: References\n",
      "\n",
      "   - Fisher, R.A. \"The use of multiple measurements in taxonomic problems\"\n",
      "     Annual Eugenics, 7, Part II, 179-188 (1936); also in \"Contributions to\n",
      "     Mathematical Statistics\" (John Wiley, NY, 1950).\n",
      "   - Duda, R.O., & Hart, P.E. (1973) Pattern Classification and Scene Analysis.\n",
      "     (Q327.D83) John Wiley & Sons.  ISBN 0-471-22361-1.  See page 218.\n",
      "   - Dasarathy, B.V. (1980) \"Nosing Around the Neighborhood: A New System\n",
      "     Structure and Classification Rule for Recognition in Partially Exposed\n",
      "     Environments\".  IEEE Transactions on Pattern Analysis and Machine\n",
      "     Intelligence, Vol. PAMI-2, No. 1, 67-71.\n",
      "   - Gates, G.W. (1972) \"The Reduced Nearest Neighbor Rule\".  IEEE Transactions\n",
      "     on Information Theory, May 1972, 431-433.\n",
      "   - See also: 1988 MLC Proceedings, 54-64.  Cheeseman et al\"s AUTOCLASS II\n",
      "     conceptual clustering system finds 3 classes in the data.\n",
      "   - Many, many more ...\n"
     ]
    }
   ],
   "source": [
    "# Using the DESCR key (description) over the iris_dataset to describ the dataset (3 points)\n",
    "\n",
    "print (\"Iris data set Description\", iris['DESCR'])"
   ]
  },
  {
   "cell_type": "code",
   "execution_count": 5,
   "metadata": {},
   "outputs": [],
   "source": [
    "# To get the iris features and the target classes (3 points)\n",
    "X = iris.data\n",
    "y = iris.target\n"
   ]
  },
  {
   "cell_type": "code",
   "execution_count": 6,
   "metadata": {},
   "outputs": [
    {
     "name": "stdout",
     "output_type": "stream",
     "text": [
      "[0 0 0 0 0 0 0 0 0 0 0 0 0 0 0 0 0 0 0 0 0 0 0 0 0 0 0 0 0 0 0 0 0 0 0 0 0\n",
      " 0 0 0 0 0 0 0 0 0 0 0 0 0 1 1 1 1 1 1 1 1 1 1 1 1 1 1 1 1 1 1 1 1 1 1 1 1\n",
      " 1 1 1 1 1 1 1 1 1 1 1 1 1 1 1 1 1 1 1 1 1 1 1 1 1 1 2 2 2 2 2 2 2 2 2 2 2\n",
      " 2 2 2 2 2 2 2 2 2 2 2 2 2 2 2 2 2 2 2 2 2 2 2 2 2 2 2 2 2 2 2 2 2 2 2 2 2\n",
      " 2 2]\n"
     ]
    }
   ],
   "source": [
    "# To check the target data (3 points)\n",
    "\n",
    "print(y)"
   ]
  },
  {
   "cell_type": "raw",
   "metadata": {},
   "source": [
    "\n",
    "2. (16 points) Visualizing the Iris dataset\n",
    "Notice: you can pickup any color or colormap for plotting\n"
   ]
  },
  {
   "cell_type": "raw",
   "metadata": {},
   "source": [
    "2.1 (8 points) Visualizing the relationship between Sepal and target classes (Sepal Width and Length)"
   ]
  },
  {
   "cell_type": "code",
   "execution_count": 7,
   "metadata": {},
   "outputs": [
    {
     "data": {
      "image/png": "[encoded data removed]",
      "text/plain": [
       "<Figure size 432x288 with 1 Axes>"
      ]
     },
     "metadata": {
      "needs_background": "light"
     },
     "output_type": "display_data"
    }
   ],
   "source": [
    "X = iris.data[:,:2]\n",
    "y = iris.target\n",
    "plt.scatter(X[y==0,0],X[y==0,1],color = 'r',marker='o')\n",
    "plt.scatter(X[y==1,0],X[y==1,1],color = 'b',marker='*')\n",
    "plt.scatter(X[y==2,0],X[y==2,1],color = 'g',marker='+')\n",
    "plt.title('Relationship between sepal and target classes')\n",
    "plt.xlabel('Sepal Length')\n",
    "plt.ylabel('Sepal Width')\n",
    "plt.show()"
   ]
  },
  {
   "cell_type": "raw",
   "metadata": {},
   "source": [
    "\n",
    "2.2 (8 points) Visualizing the relationship between Petal and target classes (Petal Width and Length)\n"
   ]
  },
  {
   "cell_type": "code",
   "execution_count": 8,
   "metadata": {},
   "outputs": [
    {
     "data": {
      "image/png": "[encoded data removed]",
      "text/plain": [
       "<Figure size 432x288 with 1 Axes>"
      ]
     },
     "metadata": {
      "needs_background": "light"
     },
     "output_type": "display_data"
    }
   ],
   "source": [
    "X = iris.data[:,2:]\n",
    "y = iris.target\n",
    "plt.scatter(X[y==0,0],X[y==0,1],color = 'r',marker='o')\n",
    "plt.scatter(X[y==1,0],X[y==1,1],color = 'b',marker='*')\n",
    "plt.scatter(X[y==2,0],X[y==2,1],color = 'g',marker='+')\n",
    "plt.title('Relationship between Petal and target classes')\n",
    "plt.xlabel('Petal Length')\n",
    "plt.ylabel('Petal Width')\n",
    "plt.show()\n"
   ]
  },
  {
   "cell_type": "raw",
   "metadata": {},
   "source": [
    "\n",
    "3. (15 points) Modeling Different Kernel SVM classifier using Iris Sepal features: with kernels of linear, RBF, and polynomial with degree=3\n"
   ]
  },
  {
   "cell_type": "code",
   "execution_count": 9,
   "metadata": {},
   "outputs": [],
   "source": [
    "X_train, X_test, y_train, y_test = train_test_split(iris.data[:,:2], iris.target, test_size=0.3, random_state=0)\n",
    "lin_svc = svm.SVC(kernel='linear',gamma='auto').fit(X_train, y_train)\n",
    "rbf_svc = svm.SVC(kernel='rbf',gamma='auto').fit(X_train, y_train)\n",
    "poly_svc = svm.SVC(kernel='poly', degree=3,gamma='auto').fit(X_train, y_train)\n",
    "\n"
   ]
  },
  {
   "cell_type": "raw",
   "metadata": {},
   "source": [
    "\n",
    "4. (15 points) Visualizing the modeled svm classifiers with Iris Sepal features\n",
    "Notice: there are 3 plots to describ Iris Sepal features with svm classifiers about SVC with linear kernel, SVC with RBF kernel, SVC with polynomial (degree=3) kernel\n"
   ]
  },
  {
   "cell_type": "code",
   "execution_count": 10,
   "metadata": {},
   "outputs": [
    {
     "data": {
      "image/png": "[encoded data removed]",
      "text/plain": [
       "<Figure size 432x288 with 3 Axes>"
      ]
     },
     "metadata": {},
     "output_type": "display_data"
    }
   ],
   "source": [
    "# the step of the grid\n",
    "h = .02 \n",
    "# to create the grid , so that we can plot the images on it\n",
    "x_min, x_max = X_train[:, 0].min() - 1, X_train[:, 0].max() + 1\n",
    "y_min, y_max = X_train[:, 1].min() - 1, X_train[:, 1].max() + 1\n",
    "xx, yy = np.meshgrid(np.arange(x_min, x_max, h),\n",
    "                     np.arange(y_min, y_max, h))\n",
    "\n",
    "# the title of the graph\n",
    "titles = ['LinearSVC (linear kernel)',\n",
    "          'SVC with RBF kernel',\n",
    "          'SVC with polynomial (degree 3) kernel']\n",
    "\n",
    "\n",
    "for i, clf in enumerate((lin_svc, rbf_svc, poly_svc)):\n",
    "    # to plot the edge of different classes\n",
    "    # to create a 2*2 grid , and set the i image as current image\n",
    "    plt.subplot(2, 2, i + 1) \n",
    "    # set the margin between different sub-plot\n",
    "    plt.subplots_adjust(wspace=0.4, hspace=0.4)\n",
    "    # SVM input :xx and yy output: an array\n",
    "    Z = clf.predict(np.c_[xx.ravel(), yy.ravel()]) \n",
    "    # to plot the result\n",
    "    Z = Z.reshape(xx.shape) #(220, 280)\n",
    "    plt.contourf(xx, yy, Z, cmap=plt.cm.Paired, alpha=0.8) \n",
    "    plt.scatter(X[:, 0], X[:, 1], c=y, cmap=plt.cm.Paired)\n",
    "    plt.xlabel('Sepal length')\n",
    "    plt.ylabel('Sepal width')\n",
    "    plt.xlim(xx.min(), xx.max())\n",
    "    plt.ylim(yy.min(), yy.max())\n",
    "    plt.xticks(())\n",
    "    plt.yticks(())\n",
    "    plt.title(titles[i])\n",
    "\n",
    "plt.show()\n",
    "\n"
   ]
  },
  {
   "cell_type": "raw",
   "metadata": {},
   "source": [
    "5. (6 points) Accuracy of predicting Iris Sepal features by the 3 kernels of linear, RBF and polynomial with degree=3 "
   ]
  },
  {
   "cell_type": "code",
   "execution_count": 11,
   "metadata": {},
   "outputs": [
    {
     "name": "stdout",
     "output_type": "stream",
     "text": [
      "Accuracy (Linear Kernel) -  0.8\n",
      "Accuracy (RBF Kernel) -  0.8\n",
      "Accuracy (Polynomial Degree(3) Kernel) -  0.7777777777777778\n"
     ]
    }
   ],
   "source": [
    "lin_svc_pre = lin_svc.predict(X_test)\n",
    "acc_lin_svc = sum(lin_svc_pre==y_test)/len(y_test)\n",
    "rbf_svc_pre = rbf_svc.predict(X_test)\n",
    "acc_rbf_svc = sum(rbf_svc_pre==y_test)/len(y_test)\n",
    "poly_svc_pre = poly_svc.predict(X_test)\n",
    "acc_poly_svc = sum(poly_svc_pre==y_test)/len(y_test)\n",
    "print('Accuracy (Linear Kernel) - ', acc_lin_svc)\n",
    "print('Accuracy (RBF Kernel) - ',acc_rbf_svc)\n",
    "print('Accuracy (Polynomial Degree(3) Kernel) - ',acc_poly_svc)\n"
   ]
  },
  {
   "cell_type": "raw",
   "metadata": {},
   "source": [
    "\n",
    "6. (15 points) Modeling Different Kernel SVM classifier using Iris Petal features: with kernels of linear, RBF and polynomial with degree=3 \n"
   ]
  },
  {
   "cell_type": "code",
   "execution_count": 12,
   "metadata": {},
   "outputs": [],
   "source": [
    "X_train, X_test, y_train, y_test = train_test_split(iris.data[:,2:], iris.target, test_size=0.3, random_state=0)\n",
    "lin_svc = svm.SVC(kernel='linear',gamma='auto').fit(X_train, y_train)\n",
    "rbf_svc = svm.SVC(kernel='rbf',gamma='auto').fit(X_train, y_train)\n",
    "poly_svc = svm.SVC(kernel='poly', degree=3,gamma='auto').fit(X_train, y_train)\n"
   ]
  },
  {
   "cell_type": "raw",
   "metadata": {},
   "source": [
    "\n",
    "7. (15 points) Visualizing the modeled svm classifiers with Iris Petal features \n",
    "Notice: there are 3 plots to describ Iris Pepal features with svm classifiers about SVC with linear kernel, SVC with RBF kernel, SVC with polynomial (degree=3) kernel\n"
   ]
  },
  {
   "cell_type": "code",
   "execution_count": 14,
   "metadata": {},
   "outputs": [
    {
     "data": {
      "image/png": "[encoded data removed]",
      "text/plain": [
       "<Figure size 432x288 with 3 Axes>"
      ]
     },
     "metadata": {},
     "output_type": "display_data"
    }
   ],
   "source": [
    "# the step of the grid\n",
    "h = .02 \n",
    "# to create the grid , so that we can plot the images on it\n",
    "x_min, x_max = X_train[:, 0].min() - 1, X_train[:, 0].max() + 1\n",
    "y_min, y_max = X_train[:, 1].min() - 1, X_train[:, 1].max() + 1\n",
    "xx, yy = np.meshgrid(np.arange(x_min, x_max, h),\n",
    "                     np.arange(y_min, y_max, h))\n",
    "\n",
    "# the title of the graph\n",
    "titles = ['LinearSVC (linear kernel)',\n",
    "          'SVC with RBF kernel',\n",
    "          'SVC with polynomial (degree 3) kernel']\n",
    "\n",
    "\n",
    "for i, clf in enumerate(( lin_svc, rbf_svc, poly_svc)):\n",
    "    # to plot the edge of different classes\n",
    "    # to create a 2*2 grid , and set the i image as current image\n",
    "    plt.subplot(2, 2, i + 1) \n",
    "    # set the margin between different sub-plot\n",
    "    plt.subplots_adjust(wspace=0.4, hspace=0.4)\n",
    "    # SVM input :xx and yy output: an array\n",
    "    Z = clf.predict(np.c_[xx.ravel(), yy.ravel()]) \n",
    "    # to plot the result\n",
    "    Z = Z.reshape(xx.shape) #(220, 280)\n",
    "    plt.contourf(xx, yy, Z, cmap=plt.cm.Paired, alpha=0.8) \n",
    "    plt.scatter(X[:, 0], X[:, 1], c=y, cmap=plt.cm.Paired)\n",
    "    plt.xlabel('Petal length')\n",
    "    plt.ylabel('Petal width')\n",
    "    plt.xlim(xx.min(), xx.max())\n",
    "    plt.ylim(yy.min(), yy.max())\n",
    "    plt.xticks(())\n",
    "    plt.yticks(())\n",
    "    plt.title(titles[i])\n",
    "\n",
    "plt.show()"
   ]
  },
  {
   "cell_type": "raw",
   "metadata": {},
   "source": [
    "8. (6 points) Accuracy of predicting Iris Petal features by the 3 kernels of linear, RBF and polynomial with degree=3"
   ]
  },
  {
   "cell_type": "code",
   "execution_count": 15,
   "metadata": {},
   "outputs": [
    {
     "name": "stdout",
     "output_type": "stream",
     "text": [
      "Accuracy (Linear Kernel) -  0.9777777777777777\n",
      "Accuracy (RBF Kernel) -  0.9777777777777777\n",
      "Accuracy (Polynomial Degree(3) Kernel) -  0.9777777777777777\n"
     ]
    }
   ],
   "source": [
    "lin_svc_pre = lin_svc.predict(X_test)\n",
    "acc_lin_svc = sum(lin_svc_pre==y_test)/len(y_test)\n",
    "rbf_svc_pre = rbf_svc.predict(X_test)\n",
    "acc_rbf_svc = sum(rbf_svc_pre==y_test)/len(y_test)\n",
    "poly_svc_pre = poly_svc.predict(X_test)\n",
    "acc_poly_svc = sum(poly_svc_pre==y_test)/len(y_test)\n",
    "print('Accuracy (Linear Kernel) - ',acc_lin_svc)\n",
    "print('Accuracy (RBF Kernel) - ',acc_rbf_svc)\n",
    "print('Accuracy (Polynomial Degree(3) Kernel) - ',acc_poly_svc)"
   ]
  },
  {
   "cell_type": "code",
   "execution_count": null,
   "metadata": {},
   "outputs": [],
   "source": []
  }
 ],
 "metadata": {
  "kernelspec": {
   "display_name": "Python 3",
   "language": "python",
   "name": "python3"
  },
  "language_info": {
   "codemirror_mode": {
    "name": "ipython",
    "version": 3
   },
   "file_extension": ".py",
   "mimetype": "text/x-python",
   "name": "python",
   "nbconvert_exporter": "python",
   "pygments_lexer": "ipython3",
   "version": "3.8.5"
  }
 },
 "nbformat": 4,
 "nbformat_minor": 4
}
